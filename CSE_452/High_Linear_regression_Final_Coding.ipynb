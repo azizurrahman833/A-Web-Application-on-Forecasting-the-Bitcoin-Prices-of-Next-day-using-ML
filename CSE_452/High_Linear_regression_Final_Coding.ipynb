{
 "cells": [
  {
   "cell_type": "code",
   "execution_count": 1,
   "id": "259841ec-81a4-44aa-936f-323965d22c07",
   "metadata": {},
   "outputs": [],
   "source": [
    "import pandas as pd\n",
    "from time import time\n",
    "import numpy as np\n",
    "import matplotlib.pyplot as plt\n",
    "%matplotlib inline\n",
    "import tensorflow as tf\n",
    "import keras\n",
    "import timeit\n",
    "import time\n",
    "\n",
    "from sklearn import model_selection\n",
    "from sklearn.linear_model import LinearRegression\n",
    "\n",
    "from sklearn.metrics import r2_score\n",
    "from sklearn.model_selection import train_test_split\n",
    "from sklearn.metrics import mean_squared_error\n",
    "from math import sqrt"
   ]
  },
  {
   "cell_type": "code",
   "execution_count": 2,
   "id": "15bb8e1e-cd39-43ff-aa38-d9e6c38b8426",
   "metadata": {},
   "outputs": [],
   "source": [
    "df = pd.read_csv(\"daily_BTC_USD.csv\", parse_dates = ['Date'])"
   ]
  },
  {
   "cell_type": "code",
   "execution_count": 3,
   "id": "defb79bc-f4fc-41cb-9616-86ba1acc410b",
   "metadata": {},
   "outputs": [
    {
     "name": "stdout",
     "output_type": "stream",
     "text": [
      "<class 'pandas.core.frame.DataFrame'>\n",
      "RangeIndex: 3606 entries, 0 to 3605\n",
      "Data columns (total 7 columns):\n",
      " #   Column     Non-Null Count  Dtype         \n",
      "---  ------     --------------  -----         \n",
      " 0   Date       3606 non-null   datetime64[ns]\n",
      " 1   Open       3606 non-null   float64       \n",
      " 2   High       3606 non-null   float64       \n",
      " 3   Low        3606 non-null   float64       \n",
      " 4   Close      3606 non-null   float64       \n",
      " 5   Adj Close  3606 non-null   float64       \n",
      " 6   Volume     3606 non-null   int64         \n",
      "dtypes: datetime64[ns](1), float64(5), int64(1)\n",
      "memory usage: 197.3 KB\n"
     ]
    }
   ],
   "source": [
    "df.info()"
   ]
  },
  {
   "cell_type": "code",
   "execution_count": 4,
   "id": "fe3e2ba6-fa5b-4684-aa68-df9a89ab830b",
   "metadata": {},
   "outputs": [
    {
     "data": {
      "text/plain": [
       "Date         0\n",
       "Open         0\n",
       "High         0\n",
       "Low          0\n",
       "Close        0\n",
       "Adj Close    0\n",
       "Volume       0\n",
       "dtype: int64"
      ]
     },
     "execution_count": 4,
     "metadata": {},
     "output_type": "execute_result"
    }
   ],
   "source": [
    "df.isna().sum()"
   ]
  },
  {
   "cell_type": "code",
   "execution_count": 5,
   "id": "d7f7a413-e7e3-4e4f-9974-2683595976a4",
   "metadata": {},
   "outputs": [
    {
     "data": {
      "text/plain": [
       "(3606, 7)"
      ]
     },
     "execution_count": 5,
     "metadata": {},
     "output_type": "execute_result"
    }
   ],
   "source": [
    "df.shape"
   ]
  },
  {
   "cell_type": "code",
   "execution_count": 6,
   "id": "60c2f684-2021-40a4-9abe-4feafdb5995b",
   "metadata": {},
   "outputs": [
    {
     "data": {
      "text/html": [
       "<div>\n",
       "<style scoped>\n",
       "    .dataframe tbody tr th:only-of-type {\n",
       "        vertical-align: middle;\n",
       "    }\n",
       "\n",
       "    .dataframe tbody tr th {\n",
       "        vertical-align: top;\n",
       "    }\n",
       "\n",
       "    .dataframe thead th {\n",
       "        text-align: right;\n",
       "    }\n",
       "</style>\n",
       "<table border=\"1\" class=\"dataframe\">\n",
       "  <thead>\n",
       "    <tr style=\"text-align: right;\">\n",
       "      <th></th>\n",
       "      <th>Date</th>\n",
       "      <th>Open</th>\n",
       "      <th>High</th>\n",
       "      <th>Low</th>\n",
       "      <th>Close</th>\n",
       "      <th>Adj Close</th>\n",
       "      <th>Volume</th>\n",
       "    </tr>\n",
       "  </thead>\n",
       "  <tbody>\n",
       "    <tr>\n",
       "      <th>count</th>\n",
       "      <td>3606</td>\n",
       "      <td>3606.000000</td>\n",
       "      <td>3606.000000</td>\n",
       "      <td>3606.000000</td>\n",
       "      <td>3606.000000</td>\n",
       "      <td>3606.000000</td>\n",
       "      <td>3.606000e+03</td>\n",
       "    </tr>\n",
       "    <tr>\n",
       "      <th>mean</th>\n",
       "      <td>2019-08-24 11:59:59.999999744</td>\n",
       "      <td>17254.500027</td>\n",
       "      <td>17647.350132</td>\n",
       "      <td>16835.869013</td>\n",
       "      <td>17271.128832</td>\n",
       "      <td>17271.128832</td>\n",
       "      <td>1.742216e+10</td>\n",
       "    </tr>\n",
       "    <tr>\n",
       "      <th>min</th>\n",
       "      <td>2014-09-17 00:00:00</td>\n",
       "      <td>176.897003</td>\n",
       "      <td>211.731003</td>\n",
       "      <td>171.509995</td>\n",
       "      <td>178.102997</td>\n",
       "      <td>178.102997</td>\n",
       "      <td>5.914570e+06</td>\n",
       "    </tr>\n",
       "    <tr>\n",
       "      <th>25%</th>\n",
       "      <td>2017-03-06 06:00:00</td>\n",
       "      <td>1085.379974</td>\n",
       "      <td>1121.095032</td>\n",
       "      <td>1056.792480</td>\n",
       "      <td>1100.714996</td>\n",
       "      <td>1100.714996</td>\n",
       "      <td>2.645232e+08</td>\n",
       "    </tr>\n",
       "    <tr>\n",
       "      <th>50%</th>\n",
       "      <td>2019-08-24 12:00:00</td>\n",
       "      <td>8935.910157</td>\n",
       "      <td>9190.421387</td>\n",
       "      <td>8777.600098</td>\n",
       "      <td>8930.080078</td>\n",
       "      <td>8930.080078</td>\n",
       "      <td>1.352091e+10</td>\n",
       "    </tr>\n",
       "    <tr>\n",
       "      <th>75%</th>\n",
       "      <td>2022-02-10 18:00:00</td>\n",
       "      <td>28308.497559</td>\n",
       "      <td>28744.270020</td>\n",
       "      <td>27740.186523</td>\n",
       "      <td>28328.128418</td>\n",
       "      <td>28328.128418</td>\n",
       "      <td>2.811554e+10</td>\n",
       "    </tr>\n",
       "    <tr>\n",
       "      <th>max</th>\n",
       "      <td>2024-07-31 00:00:00</td>\n",
       "      <td>73079.375000</td>\n",
       "      <td>73750.070313</td>\n",
       "      <td>71334.093750</td>\n",
       "      <td>73083.500000</td>\n",
       "      <td>73083.500000</td>\n",
       "      <td>3.509679e+11</td>\n",
       "    </tr>\n",
       "    <tr>\n",
       "      <th>std</th>\n",
       "      <td>NaN</td>\n",
       "      <td>19150.178838</td>\n",
       "      <td>19580.307368</td>\n",
       "      <td>18679.962551</td>\n",
       "      <td>19162.392862</td>\n",
       "      <td>19162.392862</td>\n",
       "      <td>1.915652e+10</td>\n",
       "    </tr>\n",
       "  </tbody>\n",
       "</table>\n",
       "</div>"
      ],
      "text/plain": [
       "                                Date          Open          High  \\\n",
       "count                           3606   3606.000000   3606.000000   \n",
       "mean   2019-08-24 11:59:59.999999744  17254.500027  17647.350132   \n",
       "min              2014-09-17 00:00:00    176.897003    211.731003   \n",
       "25%              2017-03-06 06:00:00   1085.379974   1121.095032   \n",
       "50%              2019-08-24 12:00:00   8935.910157   9190.421387   \n",
       "75%              2022-02-10 18:00:00  28308.497559  28744.270020   \n",
       "max              2024-07-31 00:00:00  73079.375000  73750.070313   \n",
       "std                              NaN  19150.178838  19580.307368   \n",
       "\n",
       "                Low         Close     Adj Close        Volume  \n",
       "count   3606.000000   3606.000000   3606.000000  3.606000e+03  \n",
       "mean   16835.869013  17271.128832  17271.128832  1.742216e+10  \n",
       "min      171.509995    178.102997    178.102997  5.914570e+06  \n",
       "25%     1056.792480   1100.714996   1100.714996  2.645232e+08  \n",
       "50%     8777.600098   8930.080078   8930.080078  1.352091e+10  \n",
       "75%    27740.186523  28328.128418  28328.128418  2.811554e+10  \n",
       "max    71334.093750  73083.500000  73083.500000  3.509679e+11  \n",
       "std    18679.962551  19162.392862  19162.392862  1.915652e+10  "
      ]
     },
     "execution_count": 6,
     "metadata": {},
     "output_type": "execute_result"
    }
   ],
   "source": [
    "df.describe()"
   ]
  },
  {
   "cell_type": "code",
   "execution_count": 7,
   "id": "20848330-19a9-4148-a5df-1862484598b0",
   "metadata": {},
   "outputs": [
    {
     "data": {
      "text/html": [
       "<div>\n",
       "<style scoped>\n",
       "    .dataframe tbody tr th:only-of-type {\n",
       "        vertical-align: middle;\n",
       "    }\n",
       "\n",
       "    .dataframe tbody tr th {\n",
       "        vertical-align: top;\n",
       "    }\n",
       "\n",
       "    .dataframe thead th {\n",
       "        text-align: right;\n",
       "    }\n",
       "</style>\n",
       "<table border=\"1\" class=\"dataframe\">\n",
       "  <thead>\n",
       "    <tr style=\"text-align: right;\">\n",
       "      <th></th>\n",
       "      <th>Date</th>\n",
       "      <th>Open</th>\n",
       "      <th>High</th>\n",
       "      <th>Low</th>\n",
       "      <th>Close</th>\n",
       "      <th>Adj Close</th>\n",
       "      <th>Volume</th>\n",
       "    </tr>\n",
       "  </thead>\n",
       "  <tbody>\n",
       "    <tr>\n",
       "      <th>Date</th>\n",
       "      <td>1.000000</td>\n",
       "      <td>0.801180</td>\n",
       "      <td>0.799387</td>\n",
       "      <td>0.804119</td>\n",
       "      <td>0.801399</td>\n",
       "      <td>0.801399</td>\n",
       "      <td>0.627678</td>\n",
       "    </tr>\n",
       "    <tr>\n",
       "      <th>Open</th>\n",
       "      <td>0.801180</td>\n",
       "      <td>1.000000</td>\n",
       "      <td>0.999552</td>\n",
       "      <td>0.999256</td>\n",
       "      <td>0.998978</td>\n",
       "      <td>0.998978</td>\n",
       "      <td>0.645891</td>\n",
       "    </tr>\n",
       "    <tr>\n",
       "      <th>High</th>\n",
       "      <td>0.799387</td>\n",
       "      <td>0.999552</td>\n",
       "      <td>1.000000</td>\n",
       "      <td>0.999118</td>\n",
       "      <td>0.999558</td>\n",
       "      <td>0.999558</td>\n",
       "      <td>0.651569</td>\n",
       "    </tr>\n",
       "    <tr>\n",
       "      <th>Low</th>\n",
       "      <td>0.804119</td>\n",
       "      <td>0.999256</td>\n",
       "      <td>0.999118</td>\n",
       "      <td>1.000000</td>\n",
       "      <td>0.999455</td>\n",
       "      <td>0.999455</td>\n",
       "      <td>0.635678</td>\n",
       "    </tr>\n",
       "    <tr>\n",
       "      <th>Close</th>\n",
       "      <td>0.801399</td>\n",
       "      <td>0.998978</td>\n",
       "      <td>0.999558</td>\n",
       "      <td>0.999455</td>\n",
       "      <td>1.000000</td>\n",
       "      <td>1.000000</td>\n",
       "      <td>0.644600</td>\n",
       "    </tr>\n",
       "    <tr>\n",
       "      <th>Adj Close</th>\n",
       "      <td>0.801399</td>\n",
       "      <td>0.998978</td>\n",
       "      <td>0.999558</td>\n",
       "      <td>0.999455</td>\n",
       "      <td>1.000000</td>\n",
       "      <td>1.000000</td>\n",
       "      <td>0.644600</td>\n",
       "    </tr>\n",
       "    <tr>\n",
       "      <th>Volume</th>\n",
       "      <td>0.627678</td>\n",
       "      <td>0.645891</td>\n",
       "      <td>0.651569</td>\n",
       "      <td>0.635678</td>\n",
       "      <td>0.644600</td>\n",
       "      <td>0.644600</td>\n",
       "      <td>1.000000</td>\n",
       "    </tr>\n",
       "  </tbody>\n",
       "</table>\n",
       "</div>"
      ],
      "text/plain": [
       "               Date      Open      High       Low     Close  Adj Close  \\\n",
       "Date       1.000000  0.801180  0.799387  0.804119  0.801399   0.801399   \n",
       "Open       0.801180  1.000000  0.999552  0.999256  0.998978   0.998978   \n",
       "High       0.799387  0.999552  1.000000  0.999118  0.999558   0.999558   \n",
       "Low        0.804119  0.999256  0.999118  1.000000  0.999455   0.999455   \n",
       "Close      0.801399  0.998978  0.999558  0.999455  1.000000   1.000000   \n",
       "Adj Close  0.801399  0.998978  0.999558  0.999455  1.000000   1.000000   \n",
       "Volume     0.627678  0.645891  0.651569  0.635678  0.644600   0.644600   \n",
       "\n",
       "             Volume  \n",
       "Date       0.627678  \n",
       "Open       0.645891  \n",
       "High       0.651569  \n",
       "Low        0.635678  \n",
       "Close      0.644600  \n",
       "Adj Close  0.644600  \n",
       "Volume     1.000000  "
      ]
     },
     "execution_count": 7,
     "metadata": {},
     "output_type": "execute_result"
    }
   ],
   "source": [
    "df.corr()"
   ]
  },
  {
   "cell_type": "code",
   "execution_count": 8,
   "id": "310da2be-df76-40b6-9e39-a93b785a6697",
   "metadata": {},
   "outputs": [
    {
     "name": "stdout",
     "output_type": "stream",
     "text": [
      "<class 'pandas.core.series.Series'> (3606,)\n",
      "<class 'numpy.ndarray'> (3606, 1)\n",
      "(2884, 1)\n",
      "(722, 1)\n"
     ]
    }
   ],
   "source": [
    "df_High = df['High']\n",
    "print(type(df_High), df_High.shape)\n",
    "\n",
    "df_High = df_High.values.reshape(len(df_High), 1)\n",
    "print(type(df_High), df_High.shape)\n",
    "\n",
    "# Training and test sets\n",
    "length_train = int(.8*len(df_High))\n",
    "length_test = len(df_High) - length_train\n",
    "train = df_High[:length_train]\n",
    "test = df_High[length_train: length_train+ length_test]\n",
    "\n",
    "print(train.shape)\n",
    "print(test.shape)\n"
   ]
  },
  {
   "cell_type": "code",
   "execution_count": 9,
   "id": "561c3c9e-97dd-49f6-842c-288908556b2f",
   "metadata": {},
   "outputs": [
    {
     "name": "stdout",
     "output_type": "stream",
     "text": [
      "(2880, 3)\n",
      "(2880,)\n",
      "(718, 3)\n",
      "(718,)\n"
     ]
    }
   ],
   "source": [
    "# splitting training testing x y\n",
    "def get_data(data, look_back):\n",
    "  data_x, data_y = [],[]\n",
    "  for i in range(len(data)-look_back-1):\n",
    "    data_x.append(data[i:(i+look_back),0])\n",
    "    data_y.append(data[i+look_back,0])\n",
    "  return np.array(data_x) , np.array(data_y)\n",
    "\n",
    "look_back = 3\n",
    "\n",
    "x_train , y_train = get_data(train, look_back)\n",
    "\n",
    "print(x_train.shape)\n",
    "print(y_train.shape)\n",
    "x_test , y_test = get_data(test,look_back)\n",
    "\n",
    "print(x_test.shape)\n",
    "print(y_test.shape)\n"
   ]
  },
  {
   "cell_type": "code",
   "execution_count": 10,
   "id": "18cd646e-704f-42ac-a4eb-939428050b36",
   "metadata": {},
   "outputs": [
    {
     "name": "stdout",
     "output_type": "stream",
     "text": [
      "[24127.414063 24822.628906 24412.566406]\n",
      "2022-08-10 00:00:00\n",
      "24127.414063\n",
      "[69398.507813 68301.851563 69987.539063]\n",
      "2024-07-29 00:00:00\n",
      "69987.539063\n",
      "\n",
      "\n",
      "24860.050781\n",
      "2022-08-11 00:00:00\n",
      "24822.628906\n",
      "66987.671875\n",
      "2024-07-30 00:00:00\n",
      "66987.671875\n"
     ]
    }
   ],
   "source": [
    "print(x_test[0])\n",
    "print(df['Date'][length_train])\n",
    "print(df['High'][length_train])\n",
    "\n",
    "print(x_test[len(x_test) - 1])\n",
    "print(df['Date'][length_train + length_test - 3])\n",
    "print(df['High'][length_train + length_test - 3])\n",
    "\n",
    "print('\\n')\n",
    "\n",
    "print(y_test[0])\n",
    "print(df['Date'][length_train + 1])\n",
    "print(df['High'][length_train + 1])\n",
    "\n",
    "print(y_test[len(y_test)-1])\n",
    "print(df['Date'][length_train + length_test - 2])\n",
    "print(df['High'][length_train + length_test - 2])"
   ]
  },
  {
   "cell_type": "code",
   "execution_count": 11,
   "id": "db217434-8cb8-47b0-bb2a-b001d3a32f24",
   "metadata": {},
   "outputs": [],
   "source": [
    "#Creating a dataframeimport datetime df_plotting which adds a Date column\n",
    "import datetime\n",
    "# start_date = pd.to_datetime(\"2017-06-01\")\n",
    "start_date = df['Date'][length_train+1]\n",
    "num_days = len(y_test)\n",
    "\n",
    "date_list = [start_date.date() + datetime.timedelta(days=x) for x in range(num_days)]\n",
    "len(date_list)\n",
    "\n",
    "df_plotting = pd.DataFrame()\n",
    "df_plotting['Date'] = date_list"
   ]
  },
  {
   "cell_type": "code",
   "execution_count": 12,
   "id": "5fc90fbf-5cf8-4f77-8380-64ea5bf667f5",
   "metadata": {},
   "outputs": [
    {
     "data": {
      "text/html": [
       "<div>\n",
       "<style scoped>\n",
       "    .dataframe tbody tr th:only-of-type {\n",
       "        vertical-align: middle;\n",
       "    }\n",
       "\n",
       "    .dataframe tbody tr th {\n",
       "        vertical-align: top;\n",
       "    }\n",
       "\n",
       "    .dataframe thead th {\n",
       "        text-align: right;\n",
       "    }\n",
       "</style>\n",
       "<table border=\"1\" class=\"dataframe\">\n",
       "  <thead>\n",
       "    <tr style=\"text-align: right;\">\n",
       "      <th></th>\n",
       "      <th>Date</th>\n",
       "      <th>Actual</th>\n",
       "    </tr>\n",
       "  </thead>\n",
       "  <tbody>\n",
       "    <tr>\n",
       "      <th>0</th>\n",
       "      <td>2022-08-11</td>\n",
       "      <td>24860.050781</td>\n",
       "    </tr>\n",
       "    <tr>\n",
       "      <th>1</th>\n",
       "      <td>2022-08-12</td>\n",
       "      <td>24974.914063</td>\n",
       "    </tr>\n",
       "    <tr>\n",
       "      <th>2</th>\n",
       "      <td>2022-08-13</td>\n",
       "      <td>25135.589844</td>\n",
       "    </tr>\n",
       "    <tr>\n",
       "      <th>3</th>\n",
       "      <td>2022-08-14</td>\n",
       "      <td>24228.416016</td>\n",
       "    </tr>\n",
       "    <tr>\n",
       "      <th>4</th>\n",
       "      <td>2022-08-15</td>\n",
       "      <td>24407.058594</td>\n",
       "    </tr>\n",
       "    <tr>\n",
       "      <th>...</th>\n",
       "      <td>...</td>\n",
       "      <td>...</td>\n",
       "    </tr>\n",
       "    <tr>\n",
       "      <th>713</th>\n",
       "      <td>2024-07-24</td>\n",
       "      <td>68207.601563</td>\n",
       "    </tr>\n",
       "    <tr>\n",
       "      <th>714</th>\n",
       "      <td>2024-07-25</td>\n",
       "      <td>69398.507813</td>\n",
       "    </tr>\n",
       "    <tr>\n",
       "      <th>715</th>\n",
       "      <td>2024-07-26</td>\n",
       "      <td>68301.851563</td>\n",
       "    </tr>\n",
       "    <tr>\n",
       "      <th>716</th>\n",
       "      <td>2024-07-27</td>\n",
       "      <td>69987.539063</td>\n",
       "    </tr>\n",
       "    <tr>\n",
       "      <th>717</th>\n",
       "      <td>2024-07-28</td>\n",
       "      <td>66987.671875</td>\n",
       "    </tr>\n",
       "  </tbody>\n",
       "</table>\n",
       "<p>718 rows × 2 columns</p>\n",
       "</div>"
      ],
      "text/plain": [
       "           Date        Actual\n",
       "0    2022-08-11  24860.050781\n",
       "1    2022-08-12  24974.914063\n",
       "2    2022-08-13  25135.589844\n",
       "3    2022-08-14  24228.416016\n",
       "4    2022-08-15  24407.058594\n",
       "..          ...           ...\n",
       "713  2024-07-24  68207.601563\n",
       "714  2024-07-25  69398.507813\n",
       "715  2024-07-26  68301.851563\n",
       "716  2024-07-27  69987.539063\n",
       "717  2024-07-28  66987.671875\n",
       "\n",
       "[718 rows x 2 columns]"
      ]
     },
     "execution_count": 12,
     "metadata": {},
     "output_type": "execute_result"
    }
   ],
   "source": [
    "#Adding a column to the df_plotting dataframe store test data as column test_data\n",
    "\n",
    "df_plotting['Actual'] = y_test.tolist()\n",
    "df_plotting"
   ]
  },
  {
   "cell_type": "code",
   "execution_count": 13,
   "id": "d582267d-ee09-4625-89b2-862c90f6667a",
   "metadata": {},
   "outputs": [],
   "source": [
    "#changing the index of df_plotting\n",
    "df_plotting.set_index('Date', inplace=True)"
   ]
  },
  {
   "cell_type": "markdown",
   "id": "62371825-c635-4abf-a36f-07abed88b3b5",
   "metadata": {},
   "source": [
    "# Linear Regression"
   ]
  },
  {
   "cell_type": "code",
   "execution_count": 14,
   "id": "f88c7277-865d-4713-ad19-b082f26263d1",
   "metadata": {},
   "outputs": [
    {
     "name": "stdout",
     "output_type": "stream",
     "text": [
      "Elapsed Time =  0.0\n"
     ]
    }
   ],
   "source": [
    "start = time.time()\n",
    "\n",
    "model_LinearR = LinearRegression()\n",
    "model_LinearR.fit(x_train, y_train) \n",
    "y_pred_LinearR= model_LinearR.predict(x_test)\n",
    "\n",
    "end = time.time()\n",
    "elapsed_time = (end - start)\n",
    "print(\"Elapsed Time = \" ,elapsed_time)\n",
    "\n",
    "# add to the df_plotting dataframe\n",
    "df_plotting['LR'] = y_pred_LinearR.tolist()"
   ]
  },
  {
   "cell_type": "code",
   "execution_count": 15,
   "id": "c4e72527-bbae-4317-857d-24724916e962",
   "metadata": {
    "scrolled": true
   },
   "outputs": [
    {
     "name": "stdout",
     "output_type": "stream",
     "text": [
      "Mean Absolute Error: 557.360593\n",
      "Mean Squared Error: 819555.116189\n",
      "Root Mean Squared Error: 905.292834\n",
      "Mean_absolute_percentage_error:  1.498827\n",
      "Variance score:  0.997378\n",
      "R2 score : 0.997378\n",
      "Mean Pairwise Distance:  0.77735\n",
      "Symmetric Mean Absolute Percentage Error:  1.50427\n"
     ]
    }
   ],
   "source": [
    "from sklearn import metrics\n",
    "from sklearn.metrics import accuracy_score,confusion_matrix\n",
    "#mean_squared_error(y_test, y_pred)\n",
    "\n",
    "mean_absolute_error =  round( metrics.mean_absolute_error(y_test, y_pred_LinearR), 6)\n",
    "mean_squared_error = round( metrics.mean_squared_error(y_test, y_pred_LinearR), 6)\n",
    "root_mean_squared_error =  round( np.sqrt(metrics.mean_squared_error(y_test, y_pred_LinearR)), 6)\n",
    "\n",
    "print('Mean Absolute Error:', mean_absolute_error)  \n",
    "print('Mean Squared Error:', mean_squared_error)\n",
    "print('Root Mean Squared Error:', root_mean_squared_error)\n",
    "\n",
    "\n",
    "def mean_absolute_percentage_error(y_test, y_pred_LinearR): \n",
    "    y_test, y_pred_LinearR = np.array(y_test), np.array(y_pred_LinearR)\n",
    "    return np.mean(np.abs((y_test - y_pred_LinearR) / y_test)) * 100\n",
    "\n",
    "mean_absolute_percentage_error =  round( mean_absolute_percentage_error(y_test, y_pred_LinearR), 6)\n",
    "variance_score = round( model_LinearR.score(x_test, y_test), 6)\n",
    "r2_score = round(r2_score(y_test,y_pred_LinearR), 6)\n",
    "\n",
    "print('Mean_absolute_percentage_error: ', mean_absolute_percentage_error)\n",
    "print('Variance score: ', variance_score)\n",
    "print(\"R2 score :\" ,r2_score)\n",
    "\n",
    "def mean_pairwise_distance(actual, predict):\n",
    "  if len(actual) != len(predict):\n",
    "    raise ValueError(\"Series lengths must be equal.\")\n",
    "\n",
    "  total_distance = 0\n",
    "  for i in range(len(actual)):\n",
    "    distance = abs(actual[i] - predict[i])\n",
    "    total_distance += distance\n",
    "\n",
    "  return total_distance / (len(actual) * (len(actual) - 1))\n",
    "\n",
    "mean_pairwise_distance = round( mean_pairwise_distance(y_test, y_pred_LinearR), 5)\n",
    "print(\"Mean Pairwise Distance: \", mean_pairwise_distance)\n",
    "\n",
    "def smape(actual, predicted):\n",
    "  numerator = 2 * np.abs(predicted - actual)\n",
    "  denominator = np.abs(actual) + np.abs(predicted)\n",
    "\n",
    "  # Handle division by zero for cases where both actual and predicted are zero\n",
    "  mask = denominator != 0\n",
    "  smape = np.mean(np.where(mask, numerator / denominator * 100, 0))\n",
    "\n",
    "  return smape\n",
    "\n",
    "Symmetric_Mean_Absolute_Percentage_Error = round( smape(y_test, y_pred_LinearR), 5)\n",
    "print(\"Symmetric Mean Absolute Percentage Error: \",Symmetric_Mean_Absolute_Percentage_Error)"
   ]
  },
  {
   "cell_type": "code",
   "execution_count": 16,
   "id": "1bf4fbef-f8de-4bb4-b717-281b5f024d2a",
   "metadata": {},
   "outputs": [],
   "source": [
    "#adding measurement score to csv file\n",
    "import csv\n",
    "\n",
    "# Define the data for the row to modify\n",
    "row_to_modify = 3  # Change this to the desired row number (starting from 1)\n",
    "new_values = [\"High\", elapsed_time, mean_absolute_error, mean_absolute_percentage_error, Symmetric_Mean_Absolute_Percentage_Error,\n",
    "              mean_squared_error, root_mean_squared_error, mean_pairwise_distance,\n",
    "              r2_score, variance_score]  # Replace with your actual values\n",
    "\n",
    "# Open the CSV file in read mode\n",
    "with open(\"measurement_values.csv\", 'r') as csvfile:\n",
    "  # Create a csv reader object\n",
    "  csv_reader = csv.reader(csvfile)\n",
    "  \n",
    "  # Read all rows into a list\n",
    "  data = list(csv_reader)\n",
    "\n",
    "# Modify the data in the desired row\n",
    "data[row_to_modify - 1] = new_values  # Adjust index for 0-based indexing\n",
    "\n",
    "# Open a new file for writing\n",
    "with open('measurement_values.csv', 'w', newline='') as csvfile:\n",
    "  # Create a csv writer object\n",
    "  csv_writer = csv.writer(csvfile)\n",
    "  # Write the modified data to the new file\n",
    "  csv_writer.writerows(data)\n"
   ]
  },
  {
   "cell_type": "markdown",
   "id": "927db032-8148-4c5d-9362-9ac72662a652",
   "metadata": {},
   "source": [
    "# Plotting"
   ]
  },
  {
   "cell_type": "code",
   "execution_count": 17,
   "id": "0c715c99-a98f-4971-815d-a2c60c311756",
   "metadata": {},
   "outputs": [
    {
     "name": "stdout",
     "output_type": "stream",
     "text": [
      "                  Actual            LR\n",
      "Date                                  \n",
      "2022-08-11  24860.050781  24359.429122\n",
      "2022-08-12  24974.914063  24910.355519\n",
      "2022-08-13  25135.589844  24986.335409\n",
      "2022-08-14  24228.416016  25151.433129\n",
      "2022-08-15  24407.058594  24111.071761\n",
      "...                  ...           ...\n",
      "2024-07-24  68207.601563  65939.325233\n",
      "2024-07-25  69398.507813  68420.547330\n",
      "2024-07-26  68301.851563  69507.599970\n",
      "2024-07-27  69987.539063  68121.243573\n",
      "2024-07-28  66987.671875  70146.930499\n",
      "\n",
      "[718 rows x 2 columns]\n"
     ]
    },
    {
     "data": {
      "image/png": "[encoded data removed]",
      "text/plain": [
       "<Figure size 1200x800 with 1 Axes>"
      ]
     },
     "metadata": {},
     "output_type": "display_data"
    }
   ],
   "source": [
    "print(df_plotting)\n",
    "plt.figure(figsize=(12,8))\n",
    "plt.plot(df_plotting['Actual'] , label = 'Actual', color = 'black')\n",
    "plt.plot(df_plotting['LR'] , label = 'LR', color = 'r')\n",
    "plt.legend()\n",
    "plt.xlabel(\"Time\")\n",
    "plt.ylabel(\"High Price In USD\")\n",
    "plt.grid()\n",
    "plt.savefig(\"High_LinearR_Final_Coding_Plot_Image\")"
   ]
  },
  {
   "cell_type": "code",
   "execution_count": 18,
   "id": "cb91e3d9-e5cd-45d3-a86a-4855cbad1d97",
   "metadata": {},
   "outputs": [],
   "source": [
    "import pickle\n",
    "\n",
    "# Save the Ridge model to a file (pickle it)\n",
    "with open('High_LinearR.pkl', 'wb') as f:\n",
    "    pickle.dump(model_LinearR, f)"
   ]
  },
  {
   "cell_type": "code",
   "execution_count": null,
   "id": "4728be96-1ce3-4908-9245-7eec8d43c25a",
   "metadata": {},
   "outputs": [],
   "source": []
  }
 ],
 "metadata": {
  "kernelspec": {
   "display_name": "Python 3 (ipykernel)",
   "language": "python",
   "name": "python3"
  },
  "language_info": {
   "codemirror_mode": {
    "name": "ipython",
    "version": 3
   },
   "file_extension": ".py",
   "mimetype": "text/x-python",
   "name": "python",
   "nbconvert_exporter": "python",
   "pygments_lexer": "ipython3",
   "version": "3.12.5"
  }
 },
 "nbformat": 4,
 "nbformat_minor": 5
}
